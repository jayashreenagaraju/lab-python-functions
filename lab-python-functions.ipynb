{
 "cells": [
  {
   "cell_type": "markdown",
   "id": "25d7736c-ba17-4aff-b6bb-66eba20fbf4e",
   "metadata": {},
   "source": [
    "# Lab | Functions"
   ]
  },
  {
   "cell_type": "markdown",
   "id": "0c581062-8967-4d93-b06e-62833222f930",
   "metadata": {
    "tags": []
   },
   "source": [
    "## Exercise: Managing Customer Orders with Functions\n",
    "\n",
    "In the previous exercise, you improved the code for managing customer orders by using loops and flow control. Now, let's take it a step further and refactor the code by introducing functions.\n",
    "\n",
    "Follow the steps below to complete the exercise:\n",
    "\n",
    "1. Define a function named `initialize_inventory` that takes `products` as a parameter. Inside the function, implement the code for initializing the inventory dictionary using a loop and user input.\n",
    "\n",
    "2. Define a function named `get_customer_orders` that takes no parameters. Inside the function, implement the code for prompting the user to enter the product names using a loop. The function should return the `customer_orders` set.\n",
    "\n",
    "3. Define a function named `update_inventory` that takes `customer_orders` and `inventory` as parameters. Inside the function, implement the code for updating the inventory dictionary based on the customer orders.\n",
    "\n",
    "4. Define a function named `calculate_order_statistics` that takes `customer_orders` and `products` as parameters. Inside the function, implement the code for calculating the order statistics (total products ordered, and percentage of unique products ordered). The function should return these values.\n",
    "\n",
    "5. Define a function named `print_order_statistics` that takes `order_statistics` as a parameter. Inside the function, implement the code for printing the order statistics.\n",
    "\n",
    "6. Define a function named `print_updated_inventory` that takes `inventory` as a parameter. Inside the function, implement the code for printing the updated inventory.\n",
    "\n",
    "7. Call the functions in the appropriate sequence to execute the program and manage customer orders.\n",
    "\n",
    "Hints for functions:\n",
    "\n",
    "- Consider the input parameters required for each function and their return values.\n",
    "- Utilize function parameters and return values to transfer data between functions.\n",
    "- Test your functions individually to ensure they work correctly.\n",
    "\n",
    "\n"
   ]
  },
  {
   "cell_type": "markdown",
   "id": "db54112c-2f64-41ff-a3ce-2def29989d85",
   "metadata": {},
   "source": [
    "1. Define a function named `initialize_inventory` that takes `products` as a parameter. Inside the function, implement the code for initializing the inventory dictionary using a loop and user input."
   ]
  },
  {
   "cell_type": "code",
   "execution_count": 13,
   "id": "9ee8f96a-5ac1-4654-b5e2-77cc08b6d8ca",
   "metadata": {},
   "outputs": [],
   "source": [
    "def intialize_inventory(products):\n",
    "    inventory = {}\n",
    "    for product in products:\n",
    "        quantity = int(input(\"Enter the product quantity of \"+product))\n",
    "        inventory[product] = quantity\n",
    "    return inventory"
   ]
  },
  {
   "cell_type": "markdown",
   "id": "c05368be-99ef-49da-a3ba-1c23ffe326b7",
   "metadata": {},
   "source": [
    "2. Define a function named `get_customer_orders` that takes no parameters. Inside the function, implement the code for prompting the user to enter the product names using a loop. The function should return the `customer_orders` set."
   ]
  },
  {
   "cell_type": "code",
   "execution_count": 14,
   "id": "7e2f3500-c2a6-40ba-a39b-3c00289088e5",
   "metadata": {},
   "outputs": [],
   "source": [
    "def get_customer_orders():\n",
    "    customer_orders = set()\n",
    "    next_product = \"yes\"\n",
    "    while next_product == \"yes\":\n",
    "        product_name = input(\"Enter a product name out of t-shirt, mug, hat, book or keychain: \")\n",
    "        customer_orders.add(product_name)\n",
    "        next_product = input(\"Do you want to add another product? yes/no\")\n",
    "    return customer_orders"
   ]
  },
  {
   "cell_type": "markdown",
   "id": "f4a8559d-9d6a-4735-95e4-7622c843bd42",
   "metadata": {},
   "source": [
    "3. Define a function named `update_inventory` that takes `customer_orders` and `inventory` as parameters. Inside the function, implement the code for updating the inventory dictionary based on the customer orders."
   ]
  },
  {
   "cell_type": "code",
   "execution_count": 15,
   "id": "920cbf17-890d-4dd4-b619-2224d1272169",
   "metadata": {},
   "outputs": [],
   "source": [
    "def update_inventory(customer_orders, inventory):\n",
    "    for key in inventory.keys():\n",
    "        if key in customer_orders:\n",
    "            inventory[key] -= 1"
   ]
  },
  {
   "cell_type": "markdown",
   "id": "085818dd-d0ee-41ea-90e3-4c6a521da953",
   "metadata": {},
   "source": [
    "4. Define a function named `calculate_order_statistics` that takes `customer_orders` and `products` as parameters. Inside the function, implement the code for calculating the order statistics (total products ordered, and percentage of unique products ordered). The function should return these values."
   ]
  },
  {
   "cell_type": "code",
   "execution_count": 16,
   "id": "ec9dde61-018e-47fa-a400-c02f5ef39664",
   "metadata": {},
   "outputs": [],
   "source": [
    "def calculate_order_statistics(customer_orders,products):\n",
    "    total_products_ordered = len(customer_orders)\n",
    "    percentage = total_products_ordered/len(products)*100\n",
    "    return total_products_ordered, percentage"
   ]
  },
  {
   "cell_type": "markdown",
   "id": "43226ab3-ed05-4681-8c44-64f5eb585f0b",
   "metadata": {},
   "source": [
    "5. Define a function named `print_order_statistics` that takes `order_statistics` as a parameter. Inside the function, implement the code for printing the order statistics."
   ]
  },
  {
   "cell_type": "code",
   "execution_count": 17,
   "id": "de43db27-ce60-4332-bef4-7bcdb023dad3",
   "metadata": {},
   "outputs": [],
   "source": [
    "def print_order_statistics(order_statistics):\n",
    "    print(f\"Order Statistics:\\nTotal Products Ordered: {order_statistics[0]}\\nPercentage of Products Ordered: {order_statistics[1]}% \")"
   ]
  },
  {
   "cell_type": "markdown",
   "id": "35e9e438-707d-4981-8e44-47304f42634c",
   "metadata": {},
   "source": [
    "6. Define a function named `print_updated_inventory` that takes `inventory` as a parameter. Inside the function, implement the code for printing the updated inventory."
   ]
  },
  {
   "cell_type": "code",
   "execution_count": 18,
   "id": "861100a9-8b4b-47ca-b5b3-4e2e9df8e9d2",
   "metadata": {},
   "outputs": [],
   "source": [
    "def print_updated_inventory(inventory):\n",
    "    for inv in inventory:\n",
    "        print(f\"{inv} : {inventory[inv]}\")"
   ]
  },
  {
   "cell_type": "markdown",
   "id": "6f6c543a-c631-4db4-9550-3fc6240dae68",
   "metadata": {},
   "source": [
    "7. Call the functions in the appropriate sequence to execute the program and manage customer orders."
   ]
  },
  {
   "cell_type": "code",
   "execution_count": 22,
   "id": "212900c6-2a88-44b1-9bcf-f8a24ffdf774",
   "metadata": {},
   "outputs": [
    {
     "name": "stdout",
     "output_type": "stream",
     "text": [
      "initializing inventory\n"
     ]
    },
    {
     "name": "stdin",
     "output_type": "stream",
     "text": [
      "Enter the product quantity of t-shirt 4\n",
      "Enter the product quantity of mug 5\n",
      "Enter the product quantity of hat 6\n",
      "Enter the product quantity of book 7\n",
      "Enter the product quantity of keychain 8\n"
     ]
    },
    {
     "name": "stdout",
     "output_type": "stream",
     "text": [
      "getting customer orders\n"
     ]
    },
    {
     "name": "stdin",
     "output_type": "stream",
     "text": [
      "Enter a product name out of t-shirt, mug, hat, book or keychain:  hat\n",
      "Do you want to add another product? yes/no yes\n",
      "Enter a product name out of t-shirt, mug, hat, book or keychain:  book\n",
      "Do you want to add another product? yes/no yes\n",
      "Enter a product name out of t-shirt, mug, hat, book or keychain:  hat\n",
      "Do you want to add another product? yes/no yes\n",
      "Enter a product name out of t-shirt, mug, hat, book or keychain:  mug\n",
      "Do you want to add another product? yes/no no\n"
     ]
    },
    {
     "name": "stdout",
     "output_type": "stream",
     "text": [
      "updating inventory\n",
      "calculating order statistics\n",
      "Order Statistics:\n",
      "Total Products Ordered: 3\n",
      "Percentage of Products Ordered: 60.0% \n",
      "updated inventory\n",
      "t-shirt : 4\n",
      "mug : 4\n",
      "hat : 5\n",
      "book : 6\n",
      "keychain : 8\n"
     ]
    }
   ],
   "source": [
    "products = [\"t-shirt\", \"mug\", \"hat\", \"book\", \"keychain\"]\n",
    "print(\"initializing inventory\")\n",
    "inventory = intialize_inventory(products)\n",
    "print(\"getting customer orders\")\n",
    "customer_orders = get_customer_orders() \n",
    "print(\"updating inventory\")\n",
    "update_inventory(customer_orders,inventory)\n",
    "print(\"calculating order statistics\")\n",
    "order_statistics = calculate_order_statistics(customer_orders, products)\n",
    "print_order_statistics(order_statistics)\n",
    "print(\"updated inventory\")\n",
    "print_updated_inventory(inventory)"
   ]
  }
 ],
 "metadata": {
  "kernelspec": {
   "display_name": "Python 3 (ipykernel)",
   "language": "python",
   "name": "python3"
  },
  "language_info": {
   "codemirror_mode": {
    "name": "ipython",
    "version": 3
   },
   "file_extension": ".py",
   "mimetype": "text/x-python",
   "name": "python",
   "nbconvert_exporter": "python",
   "pygments_lexer": "ipython3",
   "version": "3.12.3"
  }
 },
 "nbformat": 4,
 "nbformat_minor": 5
}
